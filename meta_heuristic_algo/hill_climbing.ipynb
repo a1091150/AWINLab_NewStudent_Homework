{
 "cells": [
  {
   "cell_type": "code",
   "execution_count": 34,
   "metadata": {},
   "outputs": [],
   "source": [
    "import numpy as np\n",
    "KNAPSACK_CAP = 750\n",
    "NUMBER_OF_OBJECTS = 15\n",
    "KNAPSACK_WEIGHT = np.array([70, 73, 77, 80, 82, 87, 90, 94, 98, 106, 110, 113, 115, 118, 120])\n",
    "KNAPSACK_PROFIT = np.array([135, 139, 149, 150, 156, 163, 173, 184, 192, 201, 210, 214, 221, 229, 240])\n",
    "\n",
    "OPTIMAL_SELECTION =  np.array([1, 0, 1, 0, 1, 0, 1, 1, 1, 0, 0, 0, 0, 1, 1])\n",
    "OPTIMAL_PROFIT = 1458"
   ]
  },
  {
   "cell_type": "code",
   "execution_count": 35,
   "metadata": {},
   "outputs": [],
   "source": [
    "import random\n",
    "selection = np.zeros((NUMBER_OF_OBJECTS), dtype=int)\n",
    "seed = random.randint(0, NUMBER_OF_OBJECTS - 1)\n",
    "for _ in range(seed):\n",
    "    selection[0] = 1\n",
    "    np.random.shuffle(selection)\n",
    "    ()\n",
    "\n",
    "def getSumOfWeight(arr: np.ndarray):\n",
    "    weight = np.dot(KNAPSACK_WEIGHT, arr)\n",
    "    return np.sum(weight)\n",
    "\n",
    "def getSumOfProfit(arr: np.ndarray):\n",
    "    profit = np.dot(KNAPSACK_PROFIT, arr)\n",
    "    return np.sum(profit)\n",
    "\n",
    "def getNeighborhood(arr: np.ndarray):\n",
    "    nn = np.repeat(selection, repeats=NUMBER_OF_OBJECTS, axis=0).reshape((15,15)).transpose()\n",
    "    for i in range(NUMBER_OF_OBJECTS):\n",
    "        nn[i][i] = not nn[i][i]\n",
    "        ()\n",
    "    return nn"
   ]
  }
 ],
 "metadata": {
  "interpreter": {
   "hash": "db334f167743eb01c5a5277b2769c5b0183d5c33b5905cb72159c720f43196fc"
  },
  "kernelspec": {
   "display_name": "Python 3.8.10 ('otensor')",
   "language": "python",
   "name": "python3"
  },
  "language_info": {
   "codemirror_mode": {
    "name": "ipython",
    "version": 3
   },
   "file_extension": ".py",
   "mimetype": "text/x-python",
   "name": "python",
   "nbconvert_exporter": "python",
   "pygments_lexer": "ipython3",
   "version": "3.8.10"
  },
  "orig_nbformat": 4
 },
 "nbformat": 4,
 "nbformat_minor": 2
}
