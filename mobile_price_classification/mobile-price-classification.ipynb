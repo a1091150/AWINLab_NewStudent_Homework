{
 "cells": [
  {
   "cell_type": "markdown",
   "metadata": {},
   "source": [
    "# Mobile Price Classification"
   ]
  },
  {
   "cell_type": "markdown",
   "metadata": {},
   "source": [
    "### 基本名詞解釋\n",
    "紀錄上網找到的名詞解釋，不一定知道是什麼東西\n",
    "- The difference between train data set and test data set \n",
    "    - https://ithelp.ithome.com.tw/articles/10240556\n",
    "- Confusion Matrix https://ithelp.ithome.com.tw/articles/10224531\n",
    "    - 細項 https://ithelp.ithome.com.tw/articles/10222697 \n",
    "- SVM\n",
    "    - https://youtu.be/Y6RRHw9uN9o\n",
    "- KNN\n",
    "    - https://ithelp.ithome.com.tw/m/articles/10269826\n",
    "- Decision Tree\n",
    "    - https://youtu.be/_L39rN6gz7Y\n",
    "- Random Forest\n",
    "    - https://youtu.be/J4Wdy0Wc_xQ\n",
    "    - https://ithelp.ithome.com.tw/articles/10206242\n",
    "    - Bootstrap aggregating bagging  https://youtu.be/2Mg8QD0F1dQ"
   ]
  },
  {
   "cell_type": "code",
   "execution_count": 1,
   "metadata": {},
   "outputs": [],
   "source": [
    "# https://www.kaggle.com/code/mateusjorge/mobile-price-classification-using-svm\n",
    "import numpy as np\n",
    "import pandas as pd\n",
    "\n",
    "train = pd.read_csv(\"train.csv\")\n",
    "# 更換表格名稱\n",
    "features_mapping = {\n",
    "    'battery_power': 'battery_power',\n",
    "    'blue': 'bluetooth',\n",
    "    'clock_speed': 'clock_speed',\n",
    "    'dual_sim': 'dual_sim',\n",
    "    'fc': 'front_camera',\n",
    "    'four_g': '4g',\n",
    "    'int_memory': 'int_memory',\n",
    "    'm_dep': 'mobile_depth',\n",
    "    'mobile_wt': 'mobile_weight',\n",
    "    'n_cores': 'number_of_cores',\n",
    "    'pc': 'primary_camera_px',\n",
    "    'px_height': 'pixel_resolution_height',\n",
    "    'px_width': 'pixel_resolution_width',\n",
    "    'ram': 'ram',\n",
    "    'sc_h': 'screen_height',\n",
    "    'sc_w': 'screen_width',\n",
    "    'talk_time': 'talk_time',\n",
    "    'three_g': '3g',\n",
    "    'touch_screen': 'touch_screen',\n",
    "    'wifi': 'wifi',\n",
    "    'price_range': 'price_range'\n",
    "}\n",
    "\n",
    "train = train.rename(columns=features_mapping)\n",
    "X = train[['battery_power', 'bluetooth', 'clock_speed', 'dual_sim', 'front_camera', '4g', 'int_memory', 'mobile_depth', 'mobile_weight', 'number_of_cores', 'primary_camera_px', 'pixel_resolution_height', 'pixel_resolution_width', 'ram', 'screen_height', 'screen_width', 'talk_time', '3g', 'touch_screen', 'wifi']]\n",
    "y = train['price_range']\n",
    "\n",
    "from sklearn.preprocessing import StandardScaler\n",
    "from sklearn.metrics import accuracy_score\n",
    "from sklearn.model_selection import train_test_split\n",
    "from sklearn.metrics import classification_report, plot_confusion_matrix\n",
    "\n",
    "seed = 20\n",
    "np.random.seed(seed=seed)\n",
    "X_train, X_test, y_train, y_test = train_test_split(X, y, test_size=0.25, stratify=y)\n",
    "\n",
    "# https://scikit-learn.org/stable/modules/generated/sklearn.preprocessing.StandardScaler.html\n",
    "scaler = StandardScaler()\n",
    "scaler.fit(X_train)\n",
    "X_train_sc = scaler.transform(X_train)\n",
    "X_test_sc = scaler.transform(X_test)"
   ]
  },
  {
   "cell_type": "code",
   "execution_count": 2,
   "metadata": {},
   "outputs": [],
   "source": [
    "def foobar(method):\n",
    "    method.fit(X_train_sc, y_train)\n",
    "    preds = method.predict(X_test_sc)\n",
    "    acc = accuracy_score(y_test, preds)\n",
    "    print(\"Accuracy: %.2f%%\" % (acc * 100))\n",
    "    plot_confusion_matrix(method, X_test_sc, y_test)\n",
    "    class_rep = classification_report(y_test, preds)\n",
    "    print(class_rep)\n",
    "    ()"
   ]
  },
  {
   "cell_type": "markdown",
   "metadata": {},
   "source": [
    "### Result of SVC\n",
    "Support Vector Machine Classification"
   ]
  },
  {
   "cell_type": "code",
   "execution_count": 3,
   "metadata": {},
   "outputs": [
    {
     "name": "stdout",
     "output_type": "stream",
     "text": [
      "Accuracy: 88.80%\n"
     ]
    },
    {
     "name": "stderr",
     "output_type": "stream",
     "text": [
      "/home/dokidokipb/otensor/lib/python3.8/site-packages/sklearn/utils/deprecation.py:87: FutureWarning: Function plot_confusion_matrix is deprecated; Function `plot_confusion_matrix` is deprecated in 1.0 and will be removed in 1.2. Use one of the class methods: ConfusionMatrixDisplay.from_predictions or ConfusionMatrixDisplay.from_estimator.\n",
      "  warnings.warn(msg, category=FutureWarning)\n"
     ]
    },
    {
     "name": "stdout",
     "output_type": "stream",
     "text": [
      "              precision    recall  f1-score   support\n",
      "\n",
      "           0       0.94      0.96      0.95       125\n",
      "           1       0.82      0.86      0.84       125\n",
      "           2       0.84      0.82      0.83       125\n",
      "           3       0.96      0.92      0.94       125\n",
      "\n",
      "    accuracy                           0.89       500\n",
      "   macro avg       0.89      0.89      0.89       500\n",
      "weighted avg       0.89      0.89      0.89       500\n",
      "\n"
     ]
    },
    {
     "data": {
      "image/png": "[encoded data removed]",
      "text/plain": [
       "<Figure size 432x288 with 2 Axes>"
      ]
     },
     "metadata": {
      "needs_background": "light"
     },
     "output_type": "display_data"
    }
   ],
   "source": [
    "from sklearn.svm import SVC\n",
    "svc = SVC()\n",
    "foobar(svc)"
   ]
  },
  {
   "cell_type": "markdown",
   "metadata": {},
   "source": [
    "### Result of KNN\n",
    "K-nearest neighbors"
   ]
  },
  {
   "cell_type": "code",
   "execution_count": 4,
   "metadata": {},
   "outputs": [
    {
     "name": "stdout",
     "output_type": "stream",
     "text": [
      "Accuracy: 48.00%\n",
      "              precision    recall  f1-score   support\n",
      "\n",
      "           0       0.57      0.74      0.65       125\n",
      "           1       0.33      0.38      0.35       125\n",
      "           2       0.37      0.36      0.36       125\n",
      "           3       0.76      0.44      0.56       125\n",
      "\n",
      "    accuracy                           0.48       500\n",
      "   macro avg       0.51      0.48      0.48       500\n",
      "weighted avg       0.51      0.48      0.48       500\n",
      "\n"
     ]
    },
    {
     "name": "stderr",
     "output_type": "stream",
     "text": [
      "/home/dokidokipb/otensor/lib/python3.8/site-packages/sklearn/utils/deprecation.py:87: FutureWarning: Function plot_confusion_matrix is deprecated; Function `plot_confusion_matrix` is deprecated in 1.0 and will be removed in 1.2. Use one of the class methods: ConfusionMatrixDisplay.from_predictions or ConfusionMatrixDisplay.from_estimator.\n",
      "  warnings.warn(msg, category=FutureWarning)\n"
     ]
    },
    {
     "data": {
      "image/png": "[encoded data removed]",
      "text/plain": [
       "<Figure size 432x288 with 2 Axes>"
      ]
     },
     "metadata": {
      "needs_background": "light"
     },
     "output_type": "display_data"
    }
   ],
   "source": [
    "from sklearn.neighbors import KNeighborsClassifier\n",
    "knn = KNeighborsClassifier()\n",
    "foobar(knn)"
   ]
  },
  {
   "cell_type": "markdown",
   "metadata": {},
   "source": [
    "### Result of Decision Tree"
   ]
  },
  {
   "cell_type": "code",
   "execution_count": 5,
   "metadata": {},
   "outputs": [
    {
     "name": "stdout",
     "output_type": "stream",
     "text": [
      "Accuracy: 79.80%\n",
      "              precision    recall  f1-score   support\n",
      "\n",
      "           0       0.88      0.86      0.87       125\n",
      "           1       0.72      0.78      0.75       125\n",
      "           2       0.75      0.67      0.71       125\n",
      "           3       0.84      0.88      0.86       125\n",
      "\n",
      "    accuracy                           0.80       500\n",
      "   macro avg       0.80      0.80      0.80       500\n",
      "weighted avg       0.80      0.80      0.80       500\n",
      "\n"
     ]
    },
    {
     "name": "stderr",
     "output_type": "stream",
     "text": [
      "/home/dokidokipb/otensor/lib/python3.8/site-packages/sklearn/utils/deprecation.py:87: FutureWarning: Function plot_confusion_matrix is deprecated; Function `plot_confusion_matrix` is deprecated in 1.0 and will be removed in 1.2. Use one of the class methods: ConfusionMatrixDisplay.from_predictions or ConfusionMatrixDisplay.from_estimator.\n",
      "  warnings.warn(msg, category=FutureWarning)\n"
     ]
    },
    {
     "data": {
      "image/png": "[encoded data removed]",
      "text/plain": [
       "<Figure size 432x288 with 2 Axes>"
      ]
     },
     "metadata": {
      "needs_background": "light"
     },
     "output_type": "display_data"
    }
   ],
   "source": [
    "from sklearn import tree\n",
    "dt = tree.DecisionTreeClassifier()\n",
    "foobar(dt)"
   ]
  },
  {
   "cell_type": "markdown",
   "metadata": {},
   "source": [
    "### Result of Random Forest"
   ]
  },
  {
   "cell_type": "code",
   "execution_count": 6,
   "metadata": {},
   "outputs": [
    {
     "name": "stdout",
     "output_type": "stream",
     "text": [
      "Accuracy: 86.80%\n",
      "              precision    recall  f1-score   support\n",
      "\n",
      "           0       0.91      0.94      0.92       125\n",
      "           1       0.78      0.86      0.82       125\n",
      "           2       0.88      0.72      0.79       125\n",
      "           3       0.90      0.96      0.93       125\n",
      "\n",
      "    accuracy                           0.87       500\n",
      "   macro avg       0.87      0.87      0.87       500\n",
      "weighted avg       0.87      0.87      0.87       500\n",
      "\n"
     ]
    },
    {
     "name": "stderr",
     "output_type": "stream",
     "text": [
      "/home/dokidokipb/otensor/lib/python3.8/site-packages/sklearn/utils/deprecation.py:87: FutureWarning: Function plot_confusion_matrix is deprecated; Function `plot_confusion_matrix` is deprecated in 1.0 and will be removed in 1.2. Use one of the class methods: ConfusionMatrixDisplay.from_predictions or ConfusionMatrixDisplay.from_estimator.\n",
      "  warnings.warn(msg, category=FutureWarning)\n"
     ]
    },
    {
     "data": {
      "image/png": "[encoded data removed]",
      "text/plain": [
       "<Figure size 432x288 with 2 Axes>"
      ]
     },
     "metadata": {
      "needs_background": "light"
     },
     "output_type": "display_data"
    }
   ],
   "source": [
    "from sklearn.ensemble import RandomForestClassifier\n",
    "rt = RandomForestClassifier(n_estimators=100, random_state=0)\n",
    "foobar(rt)"
   ]
  }
 ],
 "metadata": {
  "interpreter": {
   "hash": "db334f167743eb01c5a5277b2769c5b0183d5c33b5905cb72159c720f43196fc"
  },
  "kernelspec": {
   "display_name": "Python 3.8.10 ('otensor')",
   "language": "python",
   "name": "python3"
  },
  "language_info": {
   "codemirror_mode": {
    "name": "ipython",
    "version": 3
   },
   "file_extension": ".py",
   "mimetype": "text/x-python",
   "name": "python",
   "nbconvert_exporter": "python",
   "pygments_lexer": "ipython3",
   "version": "3.8.10"
  },
  "orig_nbformat": 4
 },
 "nbformat": 4,
 "nbformat_minor": 2
}
