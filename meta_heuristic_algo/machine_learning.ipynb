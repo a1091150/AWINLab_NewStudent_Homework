{
 "cells": [
  {
   "cell_type": "code",
   "execution_count": null,
   "metadata": {},
   "outputs": [],
   "source": [
    "import numpy as np\n",
    "KNAPSACK_CAP = 750\n",
    "NUMBER_OF_OBJECTS = 15\n",
    "KNAPSACK_WEIGHT = np.array([70, 73, 77, 80, 82, 87, 90, 94, 98, 106, 110, 113, 115, 118, 120])\n",
    "KNAPSACK_PROFIT = np.array([135, 139, 149, 150, 156, 163, 173, 184, 192, 201, 210, 214, 221, 229, 240])\n",
    "\n",
    "OPTIMAL_SELECTION =  np.array([1, 0, 1, 0, 1, 0, 1, 1, 1, 0, 0, 0, 0, 1, 1])\n",
    "OPTIMAL_PROFIT = 1458"
   ]
  },
  {
   "cell_type": "code",
   "execution_count": null,
   "metadata": {},
   "outputs": [],
   "source": [
    "def getSumOfWeight(arr: np.ndarray):\n",
    "    weight = np.dot(KNAPSACK_WEIGHT, arr)\n",
    "    return np.sum(weight)\n",
    "\n",
    "def getSumOfProfit(arr: np.ndarray):\n",
    "    profit = np.dot(KNAPSACK_PROFIT, arr)\n",
    "    return np.sum(profit)\n",
    "\n",
    "def getNeighborhood(arr: np.ndarray):\n",
    "    # Get a copy of arr * NUMBER_OF_OBJECTS\n",
    "    nn = np.repeat(arr, repeats=NUMBER_OF_OBJECTS, axis=0).reshape((NUMBER_OF_OBJECTS,NUMBER_OF_OBJECTS)).transpose()\n",
    "    for i in range(NUMBER_OF_OBJECTS):\n",
    "        nn[i][i] = not nn[i][i]\n",
    "        ()\n",
    "    return nn"
   ]
  },
  {
   "cell_type": "markdown",
   "metadata": {},
   "source": [
    "### Hill Climbing Algo"
   ]
  },
  {
   "cell_type": "code",
   "execution_count": null,
   "metadata": {},
   "outputs": [],
   "source": [
    "import random\n",
    "selection = np.zeros((NUMBER_OF_OBJECTS), dtype=int)\n",
    "\n",
    "while(1):\n",
    "    seed = random.randint(0, NUMBER_OF_OBJECTS - 1)\n",
    "    selection[seed] = 1\n",
    "    np.random.shuffle(selection)\n",
    "    if  KNAPSACK_CAP > getSumOfWeight(selection):\n",
    "        break\n",
    "    ()"
   ]
  },
  {
   "cell_type": "code",
   "execution_count": null,
   "metadata": {},
   "outputs": [],
   "source": [
    "for _ in range(500):\n",
    "    iterMaxProfit = getSumOfProfit(selection)\n",
    "    nn = getNeighborhood(selection)\n",
    "    for i in range(NUMBER_OF_OBJECTS):\n",
    "        if  KNAPSACK_CAP > getSumOfWeight(nn[i]):\n",
    "            nProfit = getSumOfProfit(nn[i])\n",
    "            if  iterMaxProfit < nProfit:\n",
    "                selection = nn[i]\n",
    "                iterMaxProfit = nProfit\n",
    "                ()\n",
    "            ()\n",
    "        ()\n",
    "    print(iterMaxProfit)\n",
    "    ()"
   ]
  },
  {
   "cell_type": "markdown",
   "metadata": {},
   "source": [
    "### Simulated Annealing Algo"
   ]
  }
 ],
 "metadata": {
  "interpreter": {
   "hash": "db334f167743eb01c5a5277b2769c5b0183d5c33b5905cb72159c720f43196fc"
  },
  "kernelspec": {
   "display_name": "Python 3.8.10 ('otensor')",
   "language": "python",
   "name": "python3"
  },
  "language_info": {
   "codemirror_mode": {
    "name": "ipython",
    "version": 3
   },
   "file_extension": ".py",
   "mimetype": "text/x-python",
   "name": "python",
   "nbconvert_exporter": "python",
   "pygments_lexer": "ipython3",
   "version": "3.8.10"
  },
  "orig_nbformat": 4
 },
 "nbformat": 4,
 "nbformat_minor": 2
}
