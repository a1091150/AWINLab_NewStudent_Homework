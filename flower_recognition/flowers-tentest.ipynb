{
 "cells": [
  {
   "cell_type": "code",
   "execution_count": 1,
   "metadata": {},
   "outputs": [
    {
     "name": "stderr",
     "output_type": "stream",
     "text": [
      "2022-05-11 21:33:35.578222: I tensorflow/stream_executor/cuda/cuda_gpu_executor.cc:936] successful NUMA node read from SysFS had negative value (-1), but there must be at least one NUMA node, so returning NUMA node zero\n",
      "2022-05-11 21:33:35.600783: I tensorflow/stream_executor/cuda/cuda_gpu_executor.cc:936] successful NUMA node read from SysFS had negative value (-1), but there must be at least one NUMA node, so returning NUMA node zero\n",
      "2022-05-11 21:33:35.600899: I tensorflow/stream_executor/cuda/cuda_gpu_executor.cc:936] successful NUMA node read from SysFS had negative value (-1), but there must be at least one NUMA node, so returning NUMA node zero\n",
      "2022-05-11 21:33:35.601564: I tensorflow/core/platform/cpu_feature_guard.cc:151] This TensorFlow binary is optimized with oneAPI Deep Neural Network Library (oneDNN) to use the following CPU instructions in performance-critical operations:  AVX2 FMA\n",
      "To enable them in other operations, rebuild TensorFlow with the appropriate compiler flags.\n",
      "2022-05-11 21:33:35.602357: I tensorflow/stream_executor/cuda/cuda_gpu_executor.cc:936] successful NUMA node read from SysFS had negative value (-1), but there must be at least one NUMA node, so returning NUMA node zero\n",
      "2022-05-11 21:33:35.602456: I tensorflow/stream_executor/cuda/cuda_gpu_executor.cc:936] successful NUMA node read from SysFS had negative value (-1), but there must be at least one NUMA node, so returning NUMA node zero\n",
      "2022-05-11 21:33:35.602519: I tensorflow/stream_executor/cuda/cuda_gpu_executor.cc:936] successful NUMA node read from SysFS had negative value (-1), but there must be at least one NUMA node, so returning NUMA node zero\n",
      "2022-05-11 21:33:35.915503: I tensorflow/stream_executor/cuda/cuda_gpu_executor.cc:936] successful NUMA node read from SysFS had negative value (-1), but there must be at least one NUMA node, so returning NUMA node zero\n",
      "2022-05-11 21:33:35.915622: I tensorflow/stream_executor/cuda/cuda_gpu_executor.cc:936] successful NUMA node read from SysFS had negative value (-1), but there must be at least one NUMA node, so returning NUMA node zero\n",
      "2022-05-11 21:33:35.915693: I tensorflow/stream_executor/cuda/cuda_gpu_executor.cc:936] successful NUMA node read from SysFS had negative value (-1), but there must be at least one NUMA node, so returning NUMA node zero\n",
      "2022-05-11 21:33:35.915768: I tensorflow/core/common_runtime/gpu/gpu_device.cc:1525] Created device /job:localhost/replica:0/task:0/device:GPU:0 with 3692 MB memory:  -> device: 0, name: NVIDIA GeForce RTX 3060 Laptop GPU, pci bus id: 0000:01:00.0, compute capability: 8.6\n"
     ]
    },
    {
     "name": "stdout",
     "output_type": "stream",
     "text": [
      "Found 4317 files belonging to 5 classes.\n",
      "Using 10 files for validation.\n"
     ]
    }
   ],
   "source": [
    "import pathlib\n",
    "import tensorflow as tf\n",
    "from tensorflow import keras\n",
    "\n",
    "\n",
    "batch_size = 32\n",
    "img_height = 180\n",
    "img_width = 180\n",
    "\n",
    "# How to load model\n",
    "# https://www.tensorflow.org/guide/keras/save_and_serialize\n",
    "model = keras.models.load_model(\"niceflowers.h5\")\n",
    "\n",
    "data_dir = \"flowers/\"\n",
    "data_dir = pathlib.Path(data_dir)\n",
    "\n",
    "seed = 100\n",
    "test_ds =  keras.utils.image_dataset_from_directory(directory=data_dir, validation_split=0.0025, subset=\"validation\", seed=seed, image_size=(img_height, img_width), batch_size=batch_size)\n"
   ]
  },
  {
   "cell_type": "code",
   "execution_count": 2,
   "metadata": {},
   "outputs": [
    {
     "name": "stderr",
     "output_type": "stream",
     "text": [
      "2022-05-11 21:33:37.201418: I tensorflow/stream_executor/cuda/cuda_dnn.cc:368] Loaded cuDNN version 8400\n"
     ]
    },
    {
     "name": "stdout",
     "output_type": "stream",
     "text": [
      "1/1 [==============================] - 0s 94ms/step - loss: 0.7208 - accuracy: 0.7000\n"
     ]
    },
    {
     "name": "stderr",
     "output_type": "stream",
     "text": [
      "2022-05-11 21:33:38.002298: I tensorflow/core/platform/default/subprocess.cc:304] Start cannot spawn child process: No such file or directory\n",
      "2022-05-11 21:33:38.091252: I tensorflow/stream_executor/cuda/cuda_blas.cc:1786] TensorFloat-32 will be used for the matrix multiplication. This will only be logged once.\n"
     ]
    }
   ],
   "source": [
    "import numpy as np\n",
    "predict_labels = model.predict(test_ds)\n",
    "test_loss, test_acc = model.evaluate(test_ds)\n",
    "\n",
    "test_labels = np.concatenate([y for x, y in test_ds], axis=0)"
   ]
  },
  {
   "cell_type": "code",
   "execution_count": 3,
   "metadata": {},
   "outputs": [
    {
     "data": {
      "text/plain": [
       "(0.7208430171012878, 0.699999988079071)"
      ]
     },
     "execution_count": 3,
     "metadata": {},
     "output_type": "execute_result"
    }
   ],
   "source": [
    "test_loss, test_acc"
   ]
  },
  {
   "cell_type": "code",
   "execution_count": 4,
   "metadata": {},
   "outputs": [
    {
     "data": {
      "text/plain": [
       "array([3, 3, 0, 0, 4, 4, 2, 1, 1, 2], dtype=int32)"
      ]
     },
     "execution_count": 4,
     "metadata": {},
     "output_type": "execute_result"
    }
   ],
   "source": []
  },
  {
   "cell_type": "code",
   "execution_count": 5,
   "metadata": {},
   "outputs": [
    {
     "data": {
      "text/plain": [
       "array([[ 0.36298096,  1.6049823 , -1.3827306 ,  0.11617887, -0.9323068 ],\n",
       "       [-2.3060648 , -1.7789037 ,  0.9818022 , -2.4124432 , -0.44804785],\n",
       "       [-5.5425315 ,  7.131281  , -3.2036433 , -2.1446962 , -2.6621797 ],\n",
       "       [-1.2341324 , -1.4106069 , -3.3458164 ,  3.3887057 , -1.0041548 ],\n",
       "       [-4.6836233 , -8.470603  ,  1.703112  , -7.1972847 ,  0.90173495],\n",
       "       [ 2.807904  ,  0.20952539, -1.3278158 , -1.4727125 , -1.0570748 ],\n",
       "       [-2.1114287 ,  3.725607  , -0.5079544 , -2.3960807 , -1.9578418 ],\n",
       "       [-5.3235946 , -8.111933  ,  2.2441258 , -7.383982  ,  0.2421122 ],\n",
       "       [-1.2012829 ,  0.55370176,  0.6725384 , -2.4036317 , -0.98600096],\n",
       "       [ 0.26604074,  0.19053349, -0.2253868 , -1.3952035 , -0.38092503]],\n",
       "      dtype=float32)"
      ]
     },
     "execution_count": 5,
     "metadata": {},
     "output_type": "execute_result"
    }
   ],
   "source": [
    "predict_labels"
   ]
  },
  {
   "cell_type": "code",
   "execution_count": 22,
   "metadata": {},
   "outputs": [
    {
     "name": "stdout",
     "output_type": "stream",
     "text": [
      "[3 3 0 0 4 4 2 1 1 2]\n",
      "[3, 4, 3, 4, 4, 1, 2, 4, 1, 1]\n"
     ]
    }
   ],
   "source": [
    "print(test_labels)\n",
    "ab = np.abs(predict_labels)\n",
    "print([np.argmin(pp) for pp in ab])"
   ]
  }
 ],
 "metadata": {
  "interpreter": {
   "hash": "db334f167743eb01c5a5277b2769c5b0183d5c33b5905cb72159c720f43196fc"
  },
  "kernelspec": {
   "display_name": "Python 3.8.10 ('otensor')",
   "language": "python",
   "name": "python3"
  },
  "language_info": {
   "codemirror_mode": {
    "name": "ipython",
    "version": 3
   },
   "file_extension": ".py",
   "mimetype": "text/x-python",
   "name": "python",
   "nbconvert_exporter": "python",
   "pygments_lexer": "ipython3",
   "version": "3.8.10"
  },
  "orig_nbformat": 4
 },
 "nbformat": 4,
 "nbformat_minor": 2
}
