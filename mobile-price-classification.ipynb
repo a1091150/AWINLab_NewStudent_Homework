{
 "cells": [
  {
   "cell_type": "markdown",
   "metadata": {},
   "source": [
    "# Mobile Price Classification"
   ]
  },
  {
   "cell_type": "code",
   "execution_count": null,
   "metadata": {},
   "outputs": [],
   "source": [
    "# https://www.kaggle.com/code/mateusjorge/mobile-price-classification-using-svm\n",
    "import numpy as np\n",
    "import pandas as pd\n",
    "\n",
    "train = pd.read_csv(\"train.csv\")\n",
    "features_mapping = {\n",
    "    'battery_power': 'battery_power',\n",
    "    'blue': 'bluetooth',\n",
    "    'clock_speed': 'clock_speed',\n",
    "    'dual_sim': 'dual_sim',\n",
    "    'fc': 'front_camera',\n",
    "    'four_g': '4g',\n",
    "    'int_memory': 'int_memory',\n",
    "    'm_dep': 'mobile_depth',\n",
    "    'mobile_wt': 'mobile_weight',\n",
    "    'n_cores': 'number_of_cores',\n",
    "    'pc': 'primary_camera_px',\n",
    "    'px_height': 'pixel_resolution_height',\n",
    "    'px_width': 'pixel_resolution_width',\n",
    "    'ram': 'ram',\n",
    "    'sc_h': 'screen_height',\n",
    "    'sc_w': 'screen_width',\n",
    "    'talk_time': 'talk_time',\n",
    "    'three_g': '3g',\n",
    "    'touch_screen': 'touch_screen',\n",
    "    'wifi': 'wifi',\n",
    "    'price_range': 'price_range'\n",
    "}\n",
    "\n",
    "train = train.rename(columns=features_mapping)\n",
    "X = train[['battery_power', 'bluetooth', 'clock_speed', 'dual_sim', 'front_camera', '4g', 'int_memory', 'mobile_depth', 'mobile_weight', 'number_of_cores', 'primary_camera_px', 'pixel_resolution_height', 'pixel_resolution_width', 'ram', 'screen_height', 'screen_width', 'talk_time', '3g', 'touch_screen', 'wifi']]\n",
    "y = train['price_range']\n",
    "\n",
    "from sklearn.preprocessing import StandardScaler\n",
    "from sklearn.svm import LinearSVC\n",
    "from sklearn.metrics import accuracy_score\n",
    "from sklearn.model_selection import train_test_split\n",
    "from sklearn.metrics import classification_report, plot_confusion_matrix\n",
    "\n",
    "seed = 20\n",
    "np.random.seed(seed=seed)\n",
    "X_train, X_test, y_train, y_test = train_test_split(X, y, test_size=0.25, stratify=y)\n",
    "\n",
    "scaler = StandardScaler()\n",
    "scaler.fit(X_train)\n",
    "X_train_sc = scaler.transform(X_train)\n",
    "X_test_sc = scaler.transform(X_test)"
   ]
  },
  {
   "cell_type": "markdown",
   "metadata": {},
   "source": [
    "### 基本名詞解釋\n",
    "紀錄上網找到的名詞解釋，不一定知道是什麼東西\n",
    "- The difference between train data set and test data set \n",
    "    - https://ithelp.ithome.com.tw/articles/10240556\n",
    "- Confusion Matrix https://ithelp.ithome.com.tw/articles/10224531\n",
    "    - 細項 https://ithelp.ithome.com.tw/articles/10222697 \n",
    "- SVM\n",
    "    - https://youtu.be/Y6RRHw9uN9o\n",
    "- KNN\n",
    "    - https://ithelp.ithome.com.tw/m/articles/10269826\n",
    "- Decision Tree\n",
    "    - https://youtu.be/_L39rN6gz7Y\n",
    "- Random Forest\n",
    "    - https://youtu.be/J4Wdy0Wc_xQ\n",
    "    - https://ithelp.ithome.com.tw/articles/10206242\n",
    "    - Bootstrap aggregating bagging  https://youtu.be/2Mg8QD0F1dQ"
   ]
  },
  {
   "cell_type": "code",
   "execution_count": null,
   "metadata": {},
   "outputs": [],
   "source": [
    "def foobar(method):\n",
    "    method.fit(X_train_sc, y_train)\n",
    "    preds = method.predict(X_test_sc)\n",
    "    acc = accuracy_score(y_test, preds)\n",
    "    print(\"Accuracy: %.2f%%\" % (acc * 100))\n",
    "    plot_confusion_matrix(method, X_test_sc, y_test)\n",
    "    class_rep = classification_report(y_test, preds)\n",
    "    print(class_rep)\n",
    "    ()"
   ]
  },
  {
   "cell_type": "markdown",
   "metadata": {},
   "source": [
    "### Result of SVC\n",
    "Support Vector Machine Classification"
   ]
  },
  {
   "cell_type": "code",
   "execution_count": null,
   "metadata": {},
   "outputs": [],
   "source": [
    "from sklearn.svm import SVC\n",
    "svc = SVC()\n",
    "foobar(svc)"
   ]
  },
  {
   "cell_type": "markdown",
   "metadata": {},
   "source": [
    "### Result of KNN\n",
    "K-nearest neighbors"
   ]
  },
  {
   "cell_type": "code",
   "execution_count": null,
   "metadata": {},
   "outputs": [],
   "source": [
    "from sklearn.neighbors import KNeighborsClassifier\n",
    "knn = KNeighborsClassifier()\n",
    "foobar(knn)"
   ]
  },
  {
   "cell_type": "markdown",
   "metadata": {},
   "source": [
    "### Result of Decision Tree"
   ]
  },
  {
   "cell_type": "code",
   "execution_count": null,
   "metadata": {},
   "outputs": [],
   "source": [
    "from sklearn import tree\n",
    "dt = tree.DecisionTreeClassifier()\n",
    "foobar(dt)"
   ]
  },
  {
   "cell_type": "markdown",
   "metadata": {},
   "source": [
    "### Result of Random Tree"
   ]
  },
  {
   "cell_type": "code",
   "execution_count": null,
   "metadata": {},
   "outputs": [],
   "source": [
    "from sklearn.ensemble import RandomForestClassifier\n",
    "rt = RandomForestClassifier(n_estimators=100, random_state=0)\n",
    "foobar(rt)"
   ]
  }
 ],
 "metadata": {
  "interpreter": {
   "hash": "db334f167743eb01c5a5277b2769c5b0183d5c33b5905cb72159c720f43196fc"
  },
  "kernelspec": {
   "display_name": "Python 3.8.10 ('otensor')",
   "language": "python",
   "name": "python3"
  },
  "language_info": {
   "codemirror_mode": {
    "name": "ipython",
    "version": 3
   },
   "file_extension": ".py",
   "mimetype": "text/x-python",
   "name": "python",
   "nbconvert_exporter": "python",
   "pygments_lexer": "ipython3",
   "version": "3.8.10"
  },
  "orig_nbformat": 4
 },
 "nbformat": 4,
 "nbformat_minor": 2
}
